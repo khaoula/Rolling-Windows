{
 "cells": [
  {
   "cell_type": "code",
   "execution_count": null,
   "metadata": {},
   "outputs": [],
   "source": [
    "                                               Rolling Windows\n"
   ]
  },
  {
   "cell_type": "code",
   "execution_count": 2,
   "metadata": {},
   "outputs": [],
   "source": [
    "import pandas_datareader as pdr\n",
    "import datetime\n",
    "import pandas as pd\n",
    "import matplotlib.pyplot as plt\n",
    "import numpy as np\n"
   ]
  },
  {
   "cell_type": "code",
   "execution_count": 3,
   "metadata": {},
   "outputs": [],
   "source": [
    "yahooData = pdr.get_data_yahoo('aapl', \n",
    "                          start=datetime.datetime(2010, 1, 1), \n",
    "                          end=datetime.datetime(2018, 1, 1))"
   ]
  },
  {
   "cell_type": "code",
   "execution_count": 5,
   "metadata": {},
   "outputs": [
    {
     "name": "stdout",
     "output_type": "stream",
     "text": [
      "Date\n",
      "2010-01-04    26.681330\n",
      "2010-01-05    26.727465\n",
      "2010-01-06    26.302330\n",
      "2010-01-07    26.253704\n",
      "2010-01-08    26.428249\n",
      "Name: Adj Close, dtype: float64\n"
     ]
    }
   ],
   "source": [
    "# Isolate the adjusted closing prices \n",
    "adj_close_px = yahooData['Adj Close']\n",
    "print(adj_close_px.head())"
   ]
  },
  {
   "cell_type": "code",
   "execution_count": 9,
   "metadata": {},
   "outputs": [
    {
     "name": "stdout",
     "output_type": "stream",
     "text": [
      "Date\n",
      "2010-01-04           NaN\n",
      "2010-01-05           NaN\n",
      "2010-01-06           NaN\n",
      "2010-01-07           NaN\n",
      "2010-01-08           NaN\n",
      "2010-01-11           NaN\n",
      "2010-01-12           NaN\n",
      "2010-01-13           NaN\n",
      "2010-01-14           NaN\n",
      "2010-01-15           NaN\n",
      "2010-01-19           NaN\n",
      "2010-01-20           NaN\n",
      "2010-01-21           NaN\n",
      "2010-01-22           NaN\n",
      "2010-01-25           NaN\n",
      "2010-01-26           NaN\n",
      "2010-01-27           NaN\n",
      "2010-01-28           NaN\n",
      "2010-01-29           NaN\n",
      "2010-02-01           NaN\n",
      "2010-02-02           NaN\n",
      "2010-02-03           NaN\n",
      "2010-02-04           NaN\n",
      "2010-02-05           NaN\n",
      "2010-02-08           NaN\n",
      "2010-02-09           NaN\n",
      "2010-02-10           NaN\n",
      "2010-02-11           NaN\n",
      "2010-02-12           NaN\n",
      "2010-02-16           NaN\n",
      "                 ...    \n",
      "2017-11-17    157.148288\n",
      "2017-11-20    157.634311\n",
      "2017-11-21    158.134431\n",
      "2017-11-22    158.652414\n",
      "2017-11-24    159.193679\n",
      "2017-11-27    159.693154\n",
      "2017-11-28    160.175322\n",
      "2017-11-29    160.553868\n",
      "2017-11-30    161.014346\n",
      "2017-12-01    161.409034\n",
      "2017-12-04    161.775481\n",
      "2017-12-05    162.124939\n",
      "2017-12-06    162.457608\n",
      "2017-12-07    162.782058\n",
      "2017-12-08    163.121064\n",
      "2017-12-11    163.516377\n",
      "2017-12-12    163.817996\n",
      "2017-12-13    164.119180\n",
      "2017-12-14    164.436366\n",
      "2017-12-15    164.887814\n",
      "2017-12-18    165.392343\n",
      "2017-12-19    165.853056\n",
      "2017-12-20    166.286591\n",
      "2017-12-21    166.752923\n",
      "2017-12-22    167.195003\n",
      "2017-12-26    167.392243\n",
      "2017-12-27    167.501211\n",
      "2017-12-28    167.565599\n",
      "2017-12-29    167.637100\n",
      "2018-01-02    167.752760\n",
      "Name: Adj Close, Length: 2014, dtype: float64\n"
     ]
    }
   ],
   "source": [
    "# Calculate the moving average\n",
    "moving_avg = adj_close_px.rolling(window=40).mean()\n",
    "print(moving_avg)"
   ]
  },
  {
   "cell_type": "code",
   "execution_count": 8,
   "metadata": {},
   "outputs": [
    {
     "name": "stdout",
     "output_type": "stream",
     "text": [
      "Date\n",
      "2017-12-18    165.392343\n",
      "2017-12-19    165.853056\n",
      "2017-12-20    166.286591\n",
      "2017-12-21    166.752923\n",
      "2017-12-22    167.195003\n",
      "2017-12-26    167.392243\n",
      "2017-12-27    167.501211\n",
      "2017-12-28    167.565599\n",
      "2017-12-29    167.637100\n",
      "2018-01-02    167.752760\n",
      "Name: Adj Close, dtype: float64\n"
     ]
    }
   ],
   "source": [
    "# Inspect the result\n",
    "print(moving_avg[-10:])"
   ]
  },
  {
   "cell_type": "code",
   "execution_count": 10,
   "metadata": {},
   "outputs": [
    {
     "name": "stdout",
     "output_type": "stream",
     "text": [
      "Date\n",
      "2017-12-18    171.751816\n",
      "2017-12-19    169.921539\n",
      "2017-12-20    169.736588\n",
      "2017-12-21    170.379120\n",
      "2017-12-22    170.379120\n",
      "2017-12-26    166.056595\n",
      "2017-12-27    166.085815\n",
      "2017-12-28    166.553101\n",
      "2017-12-29    164.752060\n",
      "2018-01-02    167.701889\n",
      "Name: Adj Close, dtype: float64\n"
     ]
    }
   ],
   "source": [
    "print(adj_close_px[-10:])"
   ]
  },
  {
   "cell_type": "code",
   "execution_count": 27,
   "metadata": {},
   "outputs": [],
   "source": [
    "# Short moving window rolling mean\n",
    "yahooData['42'] = adj_close_px.rolling(window=40).mean()"
   ]
  },
  {
   "cell_type": "code",
   "execution_count": 28,
   "metadata": {},
   "outputs": [],
   "source": [
    "# Long moving window rolling mean\n",
    "yahooData['252'] = adj_close_px.rolling(window=252).mean()"
   ]
  },
  {
   "cell_type": "code",
   "execution_count": 29,
   "metadata": {},
   "outputs": [
    {
     "data": {
      "image/png": "[encoded data removed]",
      "text/plain": [
       "<Figure size 432x288 with 1 Axes>"
      ]
     },
     "metadata": {
      "needs_background": "light"
     },
     "output_type": "display_data"
    }
   ],
   "source": [
    "# Plot the adjusted closing price, the short and long windows of rolling means\n",
    "yahooData[['Adj Close', '42', '252']].plot()\n",
    "\n",
    "# Show plot\n",
    "plt.show()"
   ]
  },
  {
   "cell_type": "code",
   "execution_count": null,
   "metadata": {},
   "outputs": [],
   "source": []
  }
 ],
 "metadata": {
  "kernelspec": {
   "display_name": "Python 3",
   "language": "python",
   "name": "python3"
  },
  "language_info": {
   "codemirror_mode": {
    "name": "ipython",
    "version": 3
   },
   "file_extension": ".py",
   "mimetype": "text/x-python",
   "name": "python",
   "nbconvert_exporter": "python",
   "pygments_lexer": "ipython3",
   "version": "3.7.0"
  }
 },
 "nbformat": 4,
 "nbformat_minor": 2
}
